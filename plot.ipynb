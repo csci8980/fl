{
 "cells": [
  {
   "cell_type": "code",
   "execution_count": null,
   "metadata": {
    "collapsed": true
   },
   "outputs": [],
   "source": [
    "import pandas as pd\n",
    "import matplotlib.pyplot as plt\n",
    "\n",
    "title = 'FedAvg_20_46_39'\n",
    "\n",
    "df = pd.read_csv(f'{title}.csv')\n",
    "\n",
    "epoch = df.shape[1] - 5\n",
    "client = len(df)\n",
    "for c in range(client):\n",
    "    c_label = f'{df.at[c, \"label_dist\"]}_{df.at[c, \"data_count\"]}'\n",
    "    if df.at[c, \"label_dist\"] == 'zipf':\n",
    "        plt.plot(range(epoch), df.loc[c, [str(i) for i in range(epoch)]], 'x-r', alpha=1, label=c_label)\n",
    "    else:\n",
    "        plt.plot(range(epoch), df.loc[c, [str(i) for i in range(epoch)]], '.-', alpha=0.6, label=c_label)\n",
    "\n",
    "plt.grid(alpha=0.4)\n",
    "plt.legend(loc='lower right', ncols=2)\n",
    "plt.xlabel('Epoch')\n",
    "plt.ylabel('Accuracy')\n",
    "plt.xticks([i for i in range(epoch)])\n",
    "plt.yticks([0.1, 0.2, 0.3, 0.4, 0.5, 0.6, 0.7, 0.8, 0.9, 1.0])\n",
    "plt.title('FedAvg')\n",
    "plt.savefig(f'{title}.png', dpi=360)"
   ]
  },
  {
   "cell_type": "code",
   "execution_count": null,
   "outputs": [],
   "source": [],
   "metadata": {
    "collapsed": false
   }
  }
 ],
 "metadata": {
  "kernelspec": {
   "display_name": "Python 3",
   "language": "python",
   "name": "python3"
  },
  "language_info": {
   "codemirror_mode": {
    "name": "ipython",
    "version": 2
   },
   "file_extension": ".py",
   "mimetype": "text/x-python",
   "name": "python",
   "nbconvert_exporter": "python",
   "pygments_lexer": "ipython2",
   "version": "2.7.6"
  }
 },
 "nbformat": 4,
 "nbformat_minor": 0
}
